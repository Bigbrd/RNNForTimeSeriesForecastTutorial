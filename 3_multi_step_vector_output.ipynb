{
 "cells": [
  {
   "cell_type": "markdown",
   "metadata": {},
   "source": [
    "# Multi step model (vector output approach)\n",
    "\n",
    "In this notebook, we will demonstrate how to implement a RNN model to predict multiple time steps into the future. The model will be trained to output a vector, the elements of which are ordered predictions for future time steps. "
   ]
  },
  {
   "cell_type": "code",
   "execution_count": 1,
   "metadata": {
    "collapsed": true
   },
   "outputs": [],
   "source": [
    "import os\n",
    "import matplotlib.pyplot as plt\n",
    "import numpy as np\n",
    "import pandas as pd\n",
    "import datetime as dt\n",
    "from collections import UserDict\n",
    "%matplotlib inline\n",
    "\n",
    "pd.options.display.float_format = '{:,.2f}'.format\n",
    "np.set_printoptions(precision=2)"
   ]
  },
  {
   "cell_type": "code",
   "execution_count": 2,
   "metadata": {
    "collapsed": true
   },
   "outputs": [],
   "source": [
    "%run -i load_data.py\n",
    "%run -i mape.py\n",
    "%run -i TimeSeriesTensor.py\n",
    "%run -i create_evaluation_df.py"
   ]
  },
  {
   "cell_type": "code",
   "execution_count": 3,
   "metadata": {},
   "outputs": [
    {
     "data": {
      "text/html": [
       "<div>\n",
       "<table border=\"1\" class=\"dataframe\">\n",
       "  <thead>\n",
       "    <tr style=\"text-align: right;\">\n",
       "      <th></th>\n",
       "      <th>load</th>\n",
       "      <th>temp</th>\n",
       "    </tr>\n",
       "  </thead>\n",
       "  <tbody>\n",
       "    <tr>\n",
       "      <th>2012-01-01 00:00:00</th>\n",
       "      <td>2,698.00</td>\n",
       "      <td>32.00</td>\n",
       "    </tr>\n",
       "    <tr>\n",
       "      <th>2012-01-01 01:00:00</th>\n",
       "      <td>2,558.00</td>\n",
       "      <td>32.67</td>\n",
       "    </tr>\n",
       "    <tr>\n",
       "      <th>2012-01-01 02:00:00</th>\n",
       "      <td>2,444.00</td>\n",
       "      <td>30.00</td>\n",
       "    </tr>\n",
       "    <tr>\n",
       "      <th>2012-01-01 03:00:00</th>\n",
       "      <td>2,402.00</td>\n",
       "      <td>31.00</td>\n",
       "    </tr>\n",
       "    <tr>\n",
       "      <th>2012-01-01 04:00:00</th>\n",
       "      <td>2,403.00</td>\n",
       "      <td>32.00</td>\n",
       "    </tr>\n",
       "  </tbody>\n",
       "</table>\n",
       "</div>"
      ],
      "text/plain": [
       "                        load  temp\n",
       "2012-01-01 00:00:00 2,698.00 32.00\n",
       "2012-01-01 01:00:00 2,558.00 32.67\n",
       "2012-01-01 02:00:00 2,444.00 30.00\n",
       "2012-01-01 03:00:00 2,402.00 31.00\n",
       "2012-01-01 04:00:00 2,403.00 32.00"
      ]
     },
     "execution_count": 3,
     "metadata": {},
     "output_type": "execute_result"
    }
   ],
   "source": [
    "if not os.path.exists(os.path.join('data', 'energy.csv')):\n",
    "    %run extract_data.py\n",
    "energy = load_data()\n",
    "energy.head()"
   ]
  },
  {
   "cell_type": "code",
   "execution_count": 4,
   "metadata": {
    "collapsed": true
   },
   "outputs": [],
   "source": [
    "valid_start_dt = '2014-09-01 00:00:00'\n",
    "test_start_dt = '2014-11-01 00:00:00'\n",
    "\n",
    "T = 6\n",
    "HORIZON = 3"
   ]
  },
  {
   "cell_type": "code",
   "execution_count": 5,
   "metadata": {
    "collapsed": true
   },
   "outputs": [],
   "source": [
    "train = energy.copy()[energy.index < valid_start_dt][['load', 'temp']]"
   ]
  },
  {
   "cell_type": "code",
   "execution_count": 6,
   "metadata": {
    "collapsed": true
   },
   "outputs": [],
   "source": [
    "from sklearn.preprocessing import MinMaxScaler\n",
    "\n",
    "y_scaler = MinMaxScaler()\n",
    "y_scaler.fit(train[['load']])\n",
    "\n",
    "X_scaler = MinMaxScaler()\n",
    "train[['load', 'temp']] = X_scaler.fit_transform(train)"
   ]
  },
  {
   "cell_type": "markdown",
   "metadata": {},
   "source": [
    "Create input tensors"
   ]
  },
  {
   "cell_type": "code",
   "execution_count": 7,
   "metadata": {
    "collapsed": true
   },
   "outputs": [],
   "source": [
    "tensor_structure = {'X':(range(-T+1, 1), ['load', 'temp'])}\n",
    "train_inputs = TimeSeriesTensor(train, 'load', HORIZON, tensor_structure)"
   ]
  },
  {
   "cell_type": "code",
   "execution_count": 8,
   "metadata": {},
   "outputs": [
    {
     "data": {
      "text/html": [
       "<div>\n",
       "<table border=\"1\" class=\"dataframe\">\n",
       "  <thead>\n",
       "    <tr>\n",
       "      <th>tensor</th>\n",
       "      <th colspan=\"3\" halign=\"left\">target</th>\n",
       "      <th colspan=\"12\" halign=\"left\">X</th>\n",
       "    </tr>\n",
       "    <tr>\n",
       "      <th>feature</th>\n",
       "      <th colspan=\"3\" halign=\"left\">y</th>\n",
       "      <th colspan=\"6\" halign=\"left\">load</th>\n",
       "      <th colspan=\"6\" halign=\"left\">temp</th>\n",
       "    </tr>\n",
       "    <tr>\n",
       "      <th>time step</th>\n",
       "      <th>t+1</th>\n",
       "      <th>t+2</th>\n",
       "      <th>t+3</th>\n",
       "      <th>t-5</th>\n",
       "      <th>t-4</th>\n",
       "      <th>t-3</th>\n",
       "      <th>t-2</th>\n",
       "      <th>t-1</th>\n",
       "      <th>t</th>\n",
       "      <th>t-5</th>\n",
       "      <th>t-4</th>\n",
       "      <th>t-3</th>\n",
       "      <th>t-2</th>\n",
       "      <th>t-1</th>\n",
       "      <th>t</th>\n",
       "    </tr>\n",
       "  </thead>\n",
       "  <tbody>\n",
       "    <tr>\n",
       "      <th>2012-01-01 05:00:00</th>\n",
       "      <td>0.18</td>\n",
       "      <td>0.23</td>\n",
       "      <td>0.29</td>\n",
       "      <td>0.22</td>\n",
       "      <td>0.18</td>\n",
       "      <td>0.14</td>\n",
       "      <td>0.13</td>\n",
       "      <td>0.13</td>\n",
       "      <td>0.15</td>\n",
       "      <td>0.42</td>\n",
       "      <td>0.43</td>\n",
       "      <td>0.40</td>\n",
       "      <td>0.41</td>\n",
       "      <td>0.42</td>\n",
       "      <td>0.41</td>\n",
       "    </tr>\n",
       "    <tr>\n",
       "      <th>2012-01-01 06:00:00</th>\n",
       "      <td>0.23</td>\n",
       "      <td>0.29</td>\n",
       "      <td>0.35</td>\n",
       "      <td>0.18</td>\n",
       "      <td>0.14</td>\n",
       "      <td>0.13</td>\n",
       "      <td>0.13</td>\n",
       "      <td>0.15</td>\n",
       "      <td>0.18</td>\n",
       "      <td>0.43</td>\n",
       "      <td>0.40</td>\n",
       "      <td>0.41</td>\n",
       "      <td>0.42</td>\n",
       "      <td>0.41</td>\n",
       "      <td>0.40</td>\n",
       "    </tr>\n",
       "    <tr>\n",
       "      <th>2012-01-01 07:00:00</th>\n",
       "      <td>0.29</td>\n",
       "      <td>0.35</td>\n",
       "      <td>0.37</td>\n",
       "      <td>0.14</td>\n",
       "      <td>0.13</td>\n",
       "      <td>0.13</td>\n",
       "      <td>0.15</td>\n",
       "      <td>0.18</td>\n",
       "      <td>0.23</td>\n",
       "      <td>0.40</td>\n",
       "      <td>0.41</td>\n",
       "      <td>0.42</td>\n",
       "      <td>0.41</td>\n",
       "      <td>0.40</td>\n",
       "      <td>0.39</td>\n",
       "    </tr>\n",
       "  </tbody>\n",
       "</table>\n",
       "</div>"
      ],
      "text/plain": [
       "tensor              target              X                                     \\\n",
       "feature                  y           load                          temp        \n",
       "time step              t+1  t+2  t+3  t-5  t-4  t-3  t-2  t-1    t  t-5  t-4   \n",
       "2012-01-01 05:00:00   0.18 0.23 0.29 0.22 0.18 0.14 0.13 0.13 0.15 0.42 0.43   \n",
       "2012-01-01 06:00:00   0.23 0.29 0.35 0.18 0.14 0.13 0.13 0.15 0.18 0.43 0.40   \n",
       "2012-01-01 07:00:00   0.29 0.35 0.37 0.14 0.13 0.13 0.15 0.18 0.23 0.40 0.41   \n",
       "\n",
       "tensor                                   \n",
       "feature                                  \n",
       "time step            t-3  t-2  t-1    t  \n",
       "2012-01-01 05:00:00 0.40 0.41 0.42 0.41  \n",
       "2012-01-01 06:00:00 0.41 0.42 0.41 0.40  \n",
       "2012-01-01 07:00:00 0.42 0.41 0.40 0.39  "
      ]
     },
     "execution_count": 8,
     "metadata": {},
     "output_type": "execute_result"
    }
   ],
   "source": [
    "train_inputs.shifted_df.head(3)"
   ]
  },
  {
   "cell_type": "code",
   "execution_count": 9,
   "metadata": {},
   "outputs": [
    {
     "data": {
      "text/plain": [
       "array([[[ 0.22,  0.42],\n",
       "        [ 0.18,  0.43],\n",
       "        [ 0.14,  0.4 ],\n",
       "        [ 0.13,  0.41],\n",
       "        [ 0.13,  0.42],\n",
       "        [ 0.15,  0.41]],\n",
       "\n",
       "       [[ 0.18,  0.43],\n",
       "        [ 0.14,  0.4 ],\n",
       "        [ 0.13,  0.41],\n",
       "        [ 0.13,  0.42],\n",
       "        [ 0.15,  0.41],\n",
       "        [ 0.18,  0.4 ]],\n",
       "\n",
       "       [[ 0.14,  0.4 ],\n",
       "        [ 0.13,  0.41],\n",
       "        [ 0.13,  0.42],\n",
       "        [ 0.15,  0.41],\n",
       "        [ 0.18,  0.4 ],\n",
       "        [ 0.23,  0.39]]])"
      ]
     },
     "execution_count": 9,
     "metadata": {},
     "output_type": "execute_result"
    }
   ],
   "source": [
    "train_inputs['X'][:3]"
   ]
  },
  {
   "cell_type": "code",
   "execution_count": 10,
   "metadata": {},
   "outputs": [
    {
     "data": {
      "text/plain": [
       "array([[ 0.18,  0.23,  0.29],\n",
       "       [ 0.23,  0.29,  0.35],\n",
       "       [ 0.29,  0.35,  0.37]])"
      ]
     },
     "execution_count": 10,
     "metadata": {},
     "output_type": "execute_result"
    }
   ],
   "source": [
    "train_inputs['target'][:3]"
   ]
  },
  {
   "cell_type": "markdown",
   "metadata": {},
   "source": [
    "Construct validation set (keeping W hours from the training set in order to construct initial features)"
   ]
  },
  {
   "cell_type": "code",
   "execution_count": 11,
   "metadata": {
    "collapsed": true
   },
   "outputs": [],
   "source": [
    "look_back_dt = dt.datetime.strptime(valid_start_dt, '%Y-%m-%d %H:%M:%S') - dt.timedelta(hours=T-1)\n",
    "valid = energy.copy()[(energy.index >=look_back_dt) & (energy.index < test_start_dt)][['load', 'temp']]\n",
    "valid[['load', 'temp']] = X_scaler.transform(valid)\n",
    "valid_inputs = TimeSeriesTensor(valid, 'load', HORIZON, tensor_structure)"
   ]
  },
  {
   "cell_type": "markdown",
   "metadata": {},
   "source": [
    "## Implement the RNN"
   ]
  },
  {
   "cell_type": "code",
   "execution_count": 12,
   "metadata": {},
   "outputs": [
    {
     "name": "stderr",
     "output_type": "stream",
     "text": [
      "Using TensorFlow backend.\n"
     ]
    }
   ],
   "source": [
    "from keras.models import Model, Sequential\n",
    "from keras.layers import GRU, Dense\n",
    "from keras.callbacks import EarlyStopping"
   ]
  },
  {
   "cell_type": "code",
   "execution_count": 13,
   "metadata": {
    "collapsed": true
   },
   "outputs": [],
   "source": [
    "LATENT_DIM = 5\n",
    "BATCH_SIZE = 32\n",
    "EPOCHS = 100"
   ]
  },
  {
   "cell_type": "code",
   "execution_count": 14,
   "metadata": {
    "collapsed": true
   },
   "outputs": [],
   "source": [
    "model = Sequential()\n",
    "model.add(GRU(LATENT_DIM, input_shape=(T, 2)))\n",
    "model.add(Dense(HORIZON))"
   ]
  },
  {
   "cell_type": "code",
   "execution_count": 15,
   "metadata": {
    "collapsed": true
   },
   "outputs": [],
   "source": [
    "model.compile(optimizer='RMSprop', loss='mse')"
   ]
  },
  {
   "cell_type": "code",
   "execution_count": 16,
   "metadata": {},
   "outputs": [
    {
     "name": "stdout",
     "output_type": "stream",
     "text": [
      "_________________________________________________________________\n",
      "Layer (type)                 Output Shape              Param #   \n",
      "=================================================================\n",
      "gru_1 (GRU)                  (None, 5)                 120       \n",
      "_________________________________________________________________\n",
      "dense_1 (Dense)              (None, 3)                 18        \n",
      "=================================================================\n",
      "Total params: 138\n",
      "Trainable params: 138\n",
      "Non-trainable params: 0\n",
      "_________________________________________________________________\n"
     ]
    }
   ],
   "source": [
    "model.summary()"
   ]
  },
  {
   "cell_type": "code",
   "execution_count": 17,
   "metadata": {
    "collapsed": true
   },
   "outputs": [],
   "source": [
    "earlystop = EarlyStopping(monitor='val_loss', min_delta=0, patience=5)"
   ]
  },
  {
   "cell_type": "code",
   "execution_count": 18,
   "metadata": {},
   "outputs": [
    {
     "name": "stdout",
     "output_type": "stream",
     "text": [
      "Train on 23368 samples, validate on 1461 samples\n",
      "Epoch 1/100\n",
      "23368/23368 [==============================] - 4s 170us/step - loss: 0.0352 - val_loss: 0.0087\n",
      "Epoch 2/100\n",
      "23368/23368 [==============================] - 4s 155us/step - loss: 0.0066 - val_loss: 0.0049\n",
      "Epoch 3/100\n",
      "23368/23368 [==============================] - 4s 171us/step - loss: 0.0047 - val_loss: 0.0043\n",
      "Epoch 4/100\n",
      "23368/23368 [==============================] - 4s 156us/step - loss: 0.0041 - val_loss: 0.0040\n",
      "Epoch 5/100\n",
      "23368/23368 [==============================] - 4s 161us/step - loss: 0.0038 - val_loss: 0.0034\n",
      "Epoch 6/100\n",
      "23368/23368 [==============================] - 4s 167us/step - loss: 0.0036 - val_loss: 0.0033\n",
      "Epoch 7/100\n",
      "23368/23368 [==============================] - 3s 149us/step - loss: 0.0035 - val_loss: 0.0036\n",
      "Epoch 8/100\n",
      "23368/23368 [==============================] - 4s 165us/step - loss: 0.0034 - val_loss: 0.0034\n",
      "Epoch 9/100\n",
      "23368/23368 [==============================] - 3s 148us/step - loss: 0.0033 - val_loss: 0.0031\n",
      "Epoch 10/100\n",
      "23368/23368 [==============================] - 4s 166us/step - loss: 0.0032 - val_loss: 0.0031\n",
      "Epoch 11/100\n",
      "23368/23368 [==============================] - 4s 151us/step - loss: 0.0032 - val_loss: 0.0029\n",
      "Epoch 12/100\n",
      "23368/23368 [==============================] - 4s 158us/step - loss: 0.0031 - val_loss: 0.0033\n",
      "Epoch 13/100\n",
      "23368/23368 [==============================] - 4s 165us/step - loss: 0.0031 - val_loss: 0.0033\n",
      "Epoch 14/100\n",
      "23368/23368 [==============================] - 4s 156us/step - loss: 0.0030 - val_loss: 0.0028\n",
      "Epoch 15/100\n",
      "23368/23368 [==============================] - 4s 164us/step - loss: 0.0030 - val_loss: 0.0028\n",
      "Epoch 16/100\n",
      "23368/23368 [==============================] - 3s 149us/step - loss: 0.0030 - val_loss: 0.0027\n",
      "Epoch 17/100\n",
      "23368/23368 [==============================] - 4s 161us/step - loss: 0.0030 - val_loss: 0.0026\n",
      "Epoch 18/100\n",
      "23368/23368 [==============================] - 4s 159us/step - loss: 0.0029 - val_loss: 0.0026\n",
      "Epoch 19/100\n",
      "23368/23368 [==============================] - 4s 161us/step - loss: 0.0029 - val_loss: 0.0027\n",
      "Epoch 20/100\n",
      "23368/23368 [==============================] - 4s 164us/step - loss: 0.0029 - val_loss: 0.0027\n",
      "Epoch 21/100\n",
      "23368/23368 [==============================] - 3s 148us/step - loss: 0.0029 - val_loss: 0.0026\n",
      "Epoch 22/100\n",
      "23368/23368 [==============================] - 4s 165us/step - loss: 0.0028 - val_loss: 0.0028\n",
      "Epoch 23/100\n",
      "23368/23368 [==============================] - 4s 150us/step - loss: 0.0028 - val_loss: 0.0025\n",
      "Epoch 24/100\n",
      "23368/23368 [==============================] - 4s 164us/step - loss: 0.0028 - val_loss: 0.0026\n",
      "Epoch 25/100\n",
      "23368/23368 [==============================] - 4s 152us/step - loss: 0.0028 - val_loss: 0.0025\n",
      "Epoch 26/100\n",
      "23368/23368 [==============================] - 4s 163us/step - loss: 0.0028 - val_loss: 0.0025\n",
      "Epoch 27/100\n",
      "23368/23368 [==============================] - 4s 167us/step - loss: 0.0028 - val_loss: 0.0025\n",
      "Epoch 28/100\n",
      "23368/23368 [==============================] - 3s 148us/step - loss: 0.0028 - val_loss: 0.0026\n",
      "Epoch 29/100\n",
      "23368/23368 [==============================] - 4s 161us/step - loss: 0.0027 - val_loss: 0.0028\n",
      "Epoch 30/100\n",
      "23368/23368 [==============================] - 4s 157us/step - loss: 0.0027 - val_loss: 0.0024\n",
      "Epoch 31/100\n",
      "23368/23368 [==============================] - 4s 169us/step - loss: 0.0027 - val_loss: 0.0023\n",
      "Epoch 32/100\n",
      "23368/23368 [==============================] - 4s 152us/step - loss: 0.0027 - val_loss: 0.0029\n",
      "Epoch 33/100\n",
      "23368/23368 [==============================] - 4s 158us/step - loss: 0.0027 - val_loss: 0.0023\n",
      "Epoch 34/100\n",
      "23368/23368 [==============================] - 4s 171us/step - loss: 0.0026 - val_loss: 0.0025\n",
      "Epoch 35/100\n",
      "23368/23368 [==============================] - 4s 159us/step - loss: 0.0026 - val_loss: 0.0026\n",
      "Epoch 36/100\n",
      "23368/23368 [==============================] - 4s 165us/step - loss: 0.0026 - val_loss: 0.0023\n",
      "Epoch 37/100\n",
      "23368/23368 [==============================] - 3s 148us/step - loss: 0.0026 - val_loss: 0.0025\n",
      "Epoch 38/100\n",
      "23368/23368 [==============================] - 4s 167us/step - loss: 0.0026 - val_loss: 0.0023\n",
      "Epoch 39/100\n",
      "23368/23368 [==============================] - 4s 159us/step - loss: 0.0026 - val_loss: 0.0022\n",
      "Epoch 40/100\n",
      "23368/23368 [==============================] - 4s 157us/step - loss: 0.0026 - val_loss: 0.0023\n",
      "Epoch 41/100\n",
      "23368/23368 [==============================] - 4s 165us/step - loss: 0.0026 - val_loss: 0.0024\n",
      "Epoch 42/100\n",
      "23368/23368 [==============================] - 4s 156us/step - loss: 0.0026 - val_loss: 0.0025\n",
      "Epoch 43/100\n",
      "23368/23368 [==============================] - 4s 159us/step - loss: 0.0026 - val_loss: 0.0023\n",
      "Epoch 44/100\n",
      "23368/23368 [==============================] - 3s 149us/step - loss: 0.0026 - val_loss: 0.0022\n",
      "Epoch 45/100\n",
      "23368/23368 [==============================] - 4s 162us/step - loss: 0.0026 - val_loss: 0.0023\n",
      "Epoch 46/100\n",
      "23368/23368 [==============================] - 4s 155us/step - loss: 0.0026 - val_loss: 0.0022\n",
      "Epoch 47/100\n",
      "23368/23368 [==============================] - 4s 165us/step - loss: 0.0025 - val_loss: 0.0023\n",
      "Epoch 48/100\n",
      "23368/23368 [==============================] - 4s 164us/step - loss: 0.0025 - val_loss: 0.0022\n",
      "Epoch 49/100\n",
      "23368/23368 [==============================] - 4s 153us/step - loss: 0.0025 - val_loss: 0.0022\n",
      "Epoch 50/100\n",
      "23368/23368 [==============================] - 4s 165us/step - loss: 0.0025 - val_loss: 0.0026\n",
      "Epoch 51/100\n",
      "23368/23368 [==============================] - 4s 152us/step - loss: 0.0025 - val_loss: 0.0021\n",
      "Epoch 52/100\n",
      "23368/23368 [==============================] - 4s 162us/step - loss: 0.0025 - val_loss: 0.0022\n",
      "Epoch 53/100\n",
      "23368/23368 [==============================] - 4s 156us/step - loss: 0.0025 - val_loss: 0.0022\n",
      "Epoch 54/100\n",
      "23368/23368 [==============================] - 4s 160us/step - loss: 0.0025 - val_loss: 0.0022\n",
      "Epoch 55/100\n",
      "23368/23368 [==============================] - 4s 168us/step - loss: 0.0025 - val_loss: 0.0021\n",
      "Epoch 56/100\n",
      "23368/23368 [==============================] - 3s 149us/step - loss: 0.0025 - val_loss: 0.0022\n",
      "Epoch 57/100\n",
      "23368/23368 [==============================] - 4s 164us/step - loss: 0.0025 - val_loss: 0.0021\n",
      "Epoch 58/100\n",
      "23368/23368 [==============================] - 4s 153us/step - loss: 0.0025 - val_loss: 0.0021\n",
      "Epoch 59/100\n",
      "23368/23368 [==============================] - 4s 169us/step - loss: 0.0025 - val_loss: 0.0021\n",
      "Epoch 60/100\n",
      "23368/23368 [==============================] - 4s 153us/step - loss: 0.0025 - val_loss: 0.0021\n",
      "Epoch 61/100\n",
      "23368/23368 [==============================] - 4s 155us/step - loss: 0.0024 - val_loss: 0.0021\n",
      "Epoch 62/100\n",
      "23368/23368 [==============================] - 4s 169us/step - loss: 0.0024 - val_loss: 0.0021\n",
      "Epoch 63/100\n",
      "23368/23368 [==============================] - 4s 154us/step - loss: 0.0024 - val_loss: 0.0021\n",
      "Epoch 64/100\n",
      "23368/23368 [==============================] - 4s 161us/step - loss: 0.0024 - val_loss: 0.0023\n",
      "Epoch 65/100\n",
      "23368/23368 [==============================] - 4s 150us/step - loss: 0.0024 - val_loss: 0.0021\n",
      "Epoch 66/100\n",
      "23368/23368 [==============================] - 4s 165us/step - loss: 0.0024 - val_loss: 0.0021\n",
      "Epoch 67/100\n",
      "23368/23368 [==============================] - 4s 156us/step - loss: 0.0024 - val_loss: 0.0022\n",
      "Epoch 68/100\n",
      "23368/23368 [==============================] - 4s 156us/step - loss: 0.0024 - val_loss: 0.0021\n",
      "Epoch 69/100\n",
      "23368/23368 [==============================] - 4s 164us/step - loss: 0.0024 - val_loss: 0.0021\n",
      "Epoch 70/100\n",
      "23368/23368 [==============================] - 4s 150us/step - loss: 0.0024 - val_loss: 0.0022\n",
      "Epoch 71/100\n",
      "23368/23368 [==============================] - 4s 164us/step - loss: 0.0024 - val_loss: 0.0021\n",
      "Epoch 72/100\n",
      "23368/23368 [==============================] - 4s 151us/step - loss: 0.0023 - val_loss: 0.0020\n",
      "Epoch 73/100\n",
      "23368/23368 [==============================] - 4s 163us/step - loss: 0.0023 - val_loss: 0.0023\n",
      "Epoch 74/100\n",
      "23368/23368 [==============================] - 4s 154us/step - loss: 0.0023 - val_loss: 0.0022\n",
      "Epoch 75/100\n",
      "23368/23368 [==============================] - 4s 163us/step - loss: 0.0023 - val_loss: 0.0021\n",
      "Epoch 76/100\n"
     ]
    },
    {
     "name": "stdout",
     "output_type": "stream",
     "text": [
      "23368/23368 [==============================] - 4s 164us/step - loss: 0.0023 - val_loss: 0.0021\n",
      "Epoch 77/100\n",
      "23368/23368 [==============================] - 3s 149us/step - loss: 0.0023 - val_loss: 0.0021\n"
     ]
    },
    {
     "data": {
      "text/plain": [
       "<keras.callbacks.History at 0x7f440c5b1828>"
      ]
     },
     "execution_count": 18,
     "metadata": {},
     "output_type": "execute_result"
    }
   ],
   "source": [
    "model.fit(train_inputs['X'],\n",
    "          train_inputs['target'],\n",
    "          batch_size=BATCH_SIZE,\n",
    "          epochs=EPOCHS,\n",
    "          validation_data=(valid_inputs['X'], valid_inputs['target']),\n",
    "          callbacks=[earlystop],\n",
    "          verbose=1)"
   ]
  },
  {
   "cell_type": "markdown",
   "metadata": {},
   "source": [
    "## Evaluate the model"
   ]
  },
  {
   "cell_type": "code",
   "execution_count": 19,
   "metadata": {
    "collapsed": true
   },
   "outputs": [],
   "source": [
    "look_back_dt = dt.datetime.strptime(test_start_dt, '%Y-%m-%d %H:%M:%S') - dt.timedelta(hours=T-1)\n",
    "test = energy.copy()[test_start_dt:][['load', 'temp']]\n",
    "test[['load', 'temp']] = X_scaler.transform(test)\n",
    "test_inputs = TimeSeriesTensor(test, 'load', HORIZON, tensor_structure)"
   ]
  },
  {
   "cell_type": "code",
   "execution_count": 20,
   "metadata": {
    "collapsed": true
   },
   "outputs": [],
   "source": [
    "predictions = model.predict(test_inputs['X'])"
   ]
  },
  {
   "cell_type": "code",
   "execution_count": 21,
   "metadata": {},
   "outputs": [
    {
     "data": {
      "text/plain": [
       "array([[ 0.23,  0.31,  0.34],\n",
       "       [ 0.29,  0.35,  0.35],\n",
       "       [ 0.36,  0.39,  0.38],\n",
       "       ..., \n",
       "       [ 0.61,  0.53,  0.45],\n",
       "       [ 0.56,  0.49,  0.4 ],\n",
       "       [ 0.54,  0.46,  0.38]], dtype=float32)"
      ]
     },
     "execution_count": 21,
     "metadata": {},
     "output_type": "execute_result"
    }
   ],
   "source": [
    "predictions"
   ]
  },
  {
   "cell_type": "code",
   "execution_count": 22,
   "metadata": {},
   "outputs": [
    {
     "data": {
      "text/html": [
       "<div>\n",
       "<table border=\"1\" class=\"dataframe\">\n",
       "  <thead>\n",
       "    <tr style=\"text-align: right;\">\n",
       "      <th></th>\n",
       "      <th>timestamp</th>\n",
       "      <th>h</th>\n",
       "      <th>prediction</th>\n",
       "      <th>actual</th>\n",
       "    </tr>\n",
       "  </thead>\n",
       "  <tbody>\n",
       "    <tr>\n",
       "      <th>0</th>\n",
       "      <td>2014-11-01 05:00:00</td>\n",
       "      <td>t+1</td>\n",
       "      <td>2,726.38</td>\n",
       "      <td>2,714.00</td>\n",
       "    </tr>\n",
       "    <tr>\n",
       "      <th>1</th>\n",
       "      <td>2014-11-01 06:00:00</td>\n",
       "      <td>t+1</td>\n",
       "      <td>2,930.68</td>\n",
       "      <td>2,970.00</td>\n",
       "    </tr>\n",
       "    <tr>\n",
       "      <th>2</th>\n",
       "      <td>2014-11-01 07:00:00</td>\n",
       "      <td>t+1</td>\n",
       "      <td>3,145.08</td>\n",
       "      <td>3,189.00</td>\n",
       "    </tr>\n",
       "    <tr>\n",
       "      <th>3</th>\n",
       "      <td>2014-11-01 08:00:00</td>\n",
       "      <td>t+1</td>\n",
       "      <td>3,284.40</td>\n",
       "      <td>3,356.00</td>\n",
       "    </tr>\n",
       "    <tr>\n",
       "      <th>4</th>\n",
       "      <td>2014-11-01 09:00:00</td>\n",
       "      <td>t+1</td>\n",
       "      <td>3,427.70</td>\n",
       "      <td>3,436.00</td>\n",
       "    </tr>\n",
       "  </tbody>\n",
       "</table>\n",
       "</div>"
      ],
      "text/plain": [
       "            timestamp    h  prediction   actual\n",
       "0 2014-11-01 05:00:00  t+1    2,726.38 2,714.00\n",
       "1 2014-11-01 06:00:00  t+1    2,930.68 2,970.00\n",
       "2 2014-11-01 07:00:00  t+1    3,145.08 3,189.00\n",
       "3 2014-11-01 08:00:00  t+1    3,284.40 3,356.00\n",
       "4 2014-11-01 09:00:00  t+1    3,427.70 3,436.00"
      ]
     },
     "execution_count": 22,
     "metadata": {},
     "output_type": "execute_result"
    }
   ],
   "source": [
    "eval_df = create_evaluation_df(predictions, test_inputs, HORIZON, y_scaler)\n",
    "eval_df.head()"
   ]
  },
  {
   "cell_type": "markdown",
   "metadata": {},
   "source": [
    "Compute MAPE for each forecast horizon"
   ]
  },
  {
   "cell_type": "code",
   "execution_count": 23,
   "metadata": {},
   "outputs": [
    {
     "data": {
      "text/plain": [
       "h\n",
       "t+1   0.02\n",
       "t+2   0.03\n",
       "t+3   0.05\n",
       "Name: APE, dtype: float64"
      ]
     },
     "execution_count": 23,
     "metadata": {},
     "output_type": "execute_result"
    }
   ],
   "source": [
    "eval_df['APE'] = (eval_df['prediction'] - eval_df['actual']).abs() / eval_df['actual']\n",
    "eval_df.groupby('h')['APE'].mean()"
   ]
  },
  {
   "cell_type": "markdown",
   "metadata": {},
   "source": [
    "Compute MAPE across all predictions"
   ]
  },
  {
   "cell_type": "code",
   "execution_count": 24,
   "metadata": {},
   "outputs": [
    {
     "data": {
      "text/plain": [
       "0.03295801429751457"
      ]
     },
     "execution_count": 24,
     "metadata": {},
     "output_type": "execute_result"
    }
   ],
   "source": [
    "mape(eval_df['prediction'], eval_df['actual'])"
   ]
  },
  {
   "cell_type": "markdown",
   "metadata": {},
   "source": [
    "Plot actuals vs predictions at each horizon for first week of the test period "
   ]
  },
  {
   "cell_type": "code",
   "execution_count": 25,
   "metadata": {},
   "outputs": [
    {
     "data": {
      "image/png": "[encoded data removed]",
      "text/plain": [
       "<matplotlib.figure.Figure at 0x7f43f3f8f748>"
      ]
     },
     "metadata": {},
     "output_type": "display_data"
    }
   ],
   "source": [
    "plot_df = eval_df[(eval_df.timestamp<'2014-11-08') & (eval_df.h=='t+1')][['timestamp', 'actual']]\n",
    "for t in range(1, HORIZON+1):\n",
    "    plot_df['t+'+str(t)] = eval_df[(eval_df.timestamp<'2014-11-08') & (eval_df.h=='t+'+str(t))]['prediction'].values\n",
    "\n",
    "fig = plt.figure(figsize=(15, 8))\n",
    "ax = plt.plot(plot_df['timestamp'], plot_df['actual'], color='red', linewidth=4.0)\n",
    "ax = fig.add_subplot(111)\n",
    "ax.plot(plot_df['timestamp'], plot_df['t+1'], color='blue', linewidth=4.0, alpha=0.75)\n",
    "ax.plot(plot_df['timestamp'], plot_df['t+2'], color='blue', linewidth=3.0, alpha=0.5)\n",
    "ax.plot(plot_df['timestamp'], plot_df['t+3'], color='blue', linewidth=2.0, alpha=0.25)\n",
    "plt.xlabel('timestamp', fontsize=12)\n",
    "plt.ylabel('load', fontsize=12)\n",
    "ax.legend(loc='best')\n",
    "plt.show()"
   ]
  }
 ],
 "metadata": {
  "kernelspec": {
   "display_name": "Python 3",
   "language": "python",
   "name": "python3"
  },
  "language_info": {
   "codemirror_mode": {
    "name": "ipython",
    "version": 3
   },
   "file_extension": ".py",
   "mimetype": "text/x-python",
   "name": "python",
   "nbconvert_exporter": "python",
   "pygments_lexer": "ipython3",
   "version": "3.5.2"
  }
 },
 "nbformat": 4,
 "nbformat_minor": 2
}
