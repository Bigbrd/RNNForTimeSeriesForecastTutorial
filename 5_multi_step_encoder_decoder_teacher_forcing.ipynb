{
 "cells": [
  {
   "cell_type": "markdown",
   "metadata": {},
   "source": [
    "# Multi step model (encoder-decoder with teacher forcing)\n",
    "\n",
    "In this notebook, we will demonstrate how to implement a RNN model to predict multiple time steps into the future using an encoder decoder. The decoder part of the model uses teacher forcing, a method by which the output of one time step is fed to the input of the next time step."
   ]
  },
  {
   "cell_type": "code",
   "execution_count": 1,
   "metadata": {
    "collapsed": true
   },
   "outputs": [],
   "source": [
    "import os\n",
    "import matplotlib.pyplot as plt\n",
    "import numpy as np\n",
    "import pandas as pd\n",
    "import datetime as dt\n",
    "from collections import UserDict\n",
    "%matplotlib inline\n",
    "\n",
    "pd.options.display.float_format = '{:,.2f}'.format\n",
    "np.set_printoptions(precision=2)"
   ]
  },
  {
   "cell_type": "code",
   "execution_count": 2,
   "metadata": {
    "collapsed": true
   },
   "outputs": [],
   "source": [
    "%run -i load_data.py\n",
    "%run -i mape.py\n",
    "%run -i TimeSeriesTensor.py\n",
    "%run -i create_evaluation_df.py"
   ]
  },
  {
   "cell_type": "code",
   "execution_count": 3,
   "metadata": {},
   "outputs": [
    {
     "data": {
      "text/html": [
       "<div>\n",
       "<table border=\"1\" class=\"dataframe\">\n",
       "  <thead>\n",
       "    <tr style=\"text-align: right;\">\n",
       "      <th></th>\n",
       "      <th>load</th>\n",
       "      <th>temp</th>\n",
       "    </tr>\n",
       "  </thead>\n",
       "  <tbody>\n",
       "    <tr>\n",
       "      <th>2012-01-01 00:00:00</th>\n",
       "      <td>2,698.00</td>\n",
       "      <td>32.00</td>\n",
       "    </tr>\n",
       "    <tr>\n",
       "      <th>2012-01-01 01:00:00</th>\n",
       "      <td>2,558.00</td>\n",
       "      <td>32.67</td>\n",
       "    </tr>\n",
       "    <tr>\n",
       "      <th>2012-01-01 02:00:00</th>\n",
       "      <td>2,444.00</td>\n",
       "      <td>30.00</td>\n",
       "    </tr>\n",
       "    <tr>\n",
       "      <th>2012-01-01 03:00:00</th>\n",
       "      <td>2,402.00</td>\n",
       "      <td>31.00</td>\n",
       "    </tr>\n",
       "    <tr>\n",
       "      <th>2012-01-01 04:00:00</th>\n",
       "      <td>2,403.00</td>\n",
       "      <td>32.00</td>\n",
       "    </tr>\n",
       "  </tbody>\n",
       "</table>\n",
       "</div>"
      ],
      "text/plain": [
       "                        load  temp\n",
       "2012-01-01 00:00:00 2,698.00 32.00\n",
       "2012-01-01 01:00:00 2,558.00 32.67\n",
       "2012-01-01 02:00:00 2,444.00 30.00\n",
       "2012-01-01 03:00:00 2,402.00 31.00\n",
       "2012-01-01 04:00:00 2,403.00 32.00"
      ]
     },
     "execution_count": 3,
     "metadata": {},
     "output_type": "execute_result"
    }
   ],
   "source": [
    "if not os.path.exists(os.path.join('data', 'energy.csv')):\n",
    "    %run extract_data.py\n",
    "energy = load_data()\n",
    "energy.head()"
   ]
  },
  {
   "cell_type": "code",
   "execution_count": 4,
   "metadata": {
    "collapsed": true
   },
   "outputs": [],
   "source": [
    "valid_start_dt = '2014-09-01 00:00:00'\n",
    "test_start_dt = '2014-11-01 00:00:00'\n",
    "\n",
    "T = 6\n",
    "HORIZON = 3"
   ]
  },
  {
   "cell_type": "code",
   "execution_count": 5,
   "metadata": {
    "collapsed": true
   },
   "outputs": [],
   "source": [
    "train = energy.copy()[energy.index < valid_start_dt][['load']]"
   ]
  },
  {
   "cell_type": "code",
   "execution_count": 6,
   "metadata": {
    "collapsed": true
   },
   "outputs": [],
   "source": [
    "from sklearn.preprocessing import MinMaxScaler\n",
    "\n",
    "y_scaler = MinMaxScaler()\n",
    "y_scaler.fit(train[['load']])\n",
    "\n",
    "X_scaler = MinMaxScaler()\n",
    "train[['load']] = X_scaler.fit_transform(train)"
   ]
  },
  {
   "cell_type": "code",
   "execution_count": 7,
   "metadata": {},
   "outputs": [
    {
     "data": {
      "text/html": [
       "<div>\n",
       "<table border=\"1\" class=\"dataframe\">\n",
       "  <thead>\n",
       "    <tr>\n",
       "      <th>tensor</th>\n",
       "      <th colspan=\"3\" halign=\"left\">target</th>\n",
       "      <th colspan=\"3\" halign=\"left\">decoder_input</th>\n",
       "      <th colspan=\"6\" halign=\"left\">encoder_input</th>\n",
       "    </tr>\n",
       "    <tr>\n",
       "      <th>feature</th>\n",
       "      <th colspan=\"3\" halign=\"left\">y</th>\n",
       "      <th colspan=\"3\" halign=\"left\">load</th>\n",
       "      <th colspan=\"6\" halign=\"left\">load</th>\n",
       "    </tr>\n",
       "    <tr>\n",
       "      <th>time step</th>\n",
       "      <th>t+1</th>\n",
       "      <th>t+2</th>\n",
       "      <th>t+3</th>\n",
       "      <th>t</th>\n",
       "      <th>t+1</th>\n",
       "      <th>t+2</th>\n",
       "      <th>t-5</th>\n",
       "      <th>t-4</th>\n",
       "      <th>t-3</th>\n",
       "      <th>t-2</th>\n",
       "      <th>t-1</th>\n",
       "      <th>t</th>\n",
       "    </tr>\n",
       "  </thead>\n",
       "  <tbody>\n",
       "    <tr>\n",
       "      <th>2012-01-01 05:00:00</th>\n",
       "      <td>0.18</td>\n",
       "      <td>0.23</td>\n",
       "      <td>0.29</td>\n",
       "      <td>0.15</td>\n",
       "      <td>0.18</td>\n",
       "      <td>0.23</td>\n",
       "      <td>0.22</td>\n",
       "      <td>0.18</td>\n",
       "      <td>0.14</td>\n",
       "      <td>0.13</td>\n",
       "      <td>0.13</td>\n",
       "      <td>0.15</td>\n",
       "    </tr>\n",
       "    <tr>\n",
       "      <th>2012-01-01 06:00:00</th>\n",
       "      <td>0.23</td>\n",
       "      <td>0.29</td>\n",
       "      <td>0.35</td>\n",
       "      <td>0.18</td>\n",
       "      <td>0.23</td>\n",
       "      <td>0.29</td>\n",
       "      <td>0.18</td>\n",
       "      <td>0.14</td>\n",
       "      <td>0.13</td>\n",
       "      <td>0.13</td>\n",
       "      <td>0.15</td>\n",
       "      <td>0.18</td>\n",
       "    </tr>\n",
       "    <tr>\n",
       "      <th>2012-01-01 07:00:00</th>\n",
       "      <td>0.29</td>\n",
       "      <td>0.35</td>\n",
       "      <td>0.37</td>\n",
       "      <td>0.23</td>\n",
       "      <td>0.29</td>\n",
       "      <td>0.35</td>\n",
       "      <td>0.14</td>\n",
       "      <td>0.13</td>\n",
       "      <td>0.13</td>\n",
       "      <td>0.15</td>\n",
       "      <td>0.18</td>\n",
       "      <td>0.23</td>\n",
       "    </tr>\n",
       "    <tr>\n",
       "      <th>2012-01-01 08:00:00</th>\n",
       "      <td>0.35</td>\n",
       "      <td>0.37</td>\n",
       "      <td>0.37</td>\n",
       "      <td>0.29</td>\n",
       "      <td>0.35</td>\n",
       "      <td>0.37</td>\n",
       "      <td>0.13</td>\n",
       "      <td>0.13</td>\n",
       "      <td>0.15</td>\n",
       "      <td>0.18</td>\n",
       "      <td>0.23</td>\n",
       "      <td>0.29</td>\n",
       "    </tr>\n",
       "    <tr>\n",
       "      <th>2012-01-01 09:00:00</th>\n",
       "      <td>0.37</td>\n",
       "      <td>0.37</td>\n",
       "      <td>0.37</td>\n",
       "      <td>0.35</td>\n",
       "      <td>0.37</td>\n",
       "      <td>0.37</td>\n",
       "      <td>0.13</td>\n",
       "      <td>0.15</td>\n",
       "      <td>0.18</td>\n",
       "      <td>0.23</td>\n",
       "      <td>0.29</td>\n",
       "      <td>0.35</td>\n",
       "    </tr>\n",
       "  </tbody>\n",
       "</table>\n",
       "</div>"
      ],
      "text/plain": [
       "tensor              target           decoder_input           encoder_input  \\\n",
       "feature                  y                    load                    load   \n",
       "time step              t+1  t+2  t+3             t  t+1  t+2           t-5   \n",
       "2012-01-01 05:00:00   0.18 0.23 0.29          0.15 0.18 0.23          0.22   \n",
       "2012-01-01 06:00:00   0.23 0.29 0.35          0.18 0.23 0.29          0.18   \n",
       "2012-01-01 07:00:00   0.29 0.35 0.37          0.23 0.29 0.35          0.14   \n",
       "2012-01-01 08:00:00   0.35 0.37 0.37          0.29 0.35 0.37          0.13   \n",
       "2012-01-01 09:00:00   0.37 0.37 0.37          0.35 0.37 0.37          0.13   \n",
       "\n",
       "tensor                                        \n",
       "feature                                       \n",
       "time step            t-4  t-3  t-2  t-1    t  \n",
       "2012-01-01 05:00:00 0.18 0.14 0.13 0.13 0.15  \n",
       "2012-01-01 06:00:00 0.14 0.13 0.13 0.15 0.18  \n",
       "2012-01-01 07:00:00 0.13 0.13 0.15 0.18 0.23  \n",
       "2012-01-01 08:00:00 0.13 0.15 0.18 0.23 0.29  \n",
       "2012-01-01 09:00:00 0.15 0.18 0.23 0.29 0.35  "
      ]
     },
     "execution_count": 7,
     "metadata": {},
     "output_type": "execute_result"
    }
   ],
   "source": [
    "tensor_structure = {'encoder_input':(range(-T+1, 1), ['load']), 'decoder_input':(range(0, HORIZON), ['load'])}\n",
    "train_inputs = TimeSeriesTensor(train, 'load', HORIZON, tensor_structure)\n",
    "train_inputs.shifted_df.head()"
   ]
  },
  {
   "cell_type": "code",
   "execution_count": 8,
   "metadata": {
    "collapsed": true
   },
   "outputs": [],
   "source": [
    "look_back_dt = dt.datetime.strptime(valid_start_dt, '%Y-%m-%d %H:%M:%S') - dt.timedelta(hours=T-1)\n",
    "valid = energy.copy()[(energy.index >=look_back_dt) & (energy.index < test_start_dt)][['load']]\n",
    "valid[['load']] = X_scaler.transform(valid)\n",
    "valid_inputs = TimeSeriesTensor(valid, 'load', HORIZON, tensor_structure)"
   ]
  },
  {
   "cell_type": "markdown",
   "metadata": {},
   "source": [
    "## Implement training model"
   ]
  },
  {
   "cell_type": "code",
   "execution_count": 9,
   "metadata": {},
   "outputs": [
    {
     "name": "stderr",
     "output_type": "stream",
     "text": [
      "Using TensorFlow backend.\n"
     ]
    }
   ],
   "source": [
    "from keras.models import Model, Sequential\n",
    "from keras.layers import GRU, Dense, RepeatVector, TimeDistributed, Flatten, Input\n",
    "from keras.callbacks import EarlyStopping"
   ]
  },
  {
   "cell_type": "code",
   "execution_count": 10,
   "metadata": {
    "collapsed": true
   },
   "outputs": [],
   "source": [
    "BATCH_SIZE = 32\n",
    "EPOCHS = 100\n",
    "LATENT_DIM = 5"
   ]
  },
  {
   "cell_type": "code",
   "execution_count": 11,
   "metadata": {
    "collapsed": true
   },
   "outputs": [],
   "source": [
    "# define training encoder\n",
    "encoder_inputs = Input(shape=(None, 1))\n",
    "encoder = GRU(LATENT_DIM, return_state=True)\n",
    "encoder_outputs, state_h = encoder(encoder_inputs)\n",
    "encoder_states = [state_h]\n",
    "\n",
    "# define training decoder\n",
    "decoder_inputs = Input(shape=(None, 1))\n",
    "decoder_GRU = GRU(LATENT_DIM, return_state=True, return_sequences=True)\n",
    "decoder_outputs, _ = decoder_GRU(decoder_inputs, initial_state=encoder_states)\n",
    "decoder_dense = TimeDistributed(Dense(1))\n",
    "decoder_outputs = decoder_dense(decoder_outputs)\n",
    "#flatten = Flatten()\n",
    "#decoder_outputs = flatten(decoder_outputs)\n",
    "model = Model([encoder_inputs, decoder_inputs], decoder_outputs)"
   ]
  },
  {
   "cell_type": "code",
   "execution_count": 12,
   "metadata": {
    "collapsed": true
   },
   "outputs": [],
   "source": [
    "model.compile(optimizer='RMSprop', loss='mse')"
   ]
  },
  {
   "cell_type": "code",
   "execution_count": 13,
   "metadata": {
    "collapsed": true
   },
   "outputs": [],
   "source": [
    "earlystop = EarlyStopping(monitor='val_loss', min_delta=0, patience=5)"
   ]
  },
  {
   "cell_type": "code",
   "execution_count": 14,
   "metadata": {
    "collapsed": true
   },
   "outputs": [],
   "source": [
    "train_target = train_inputs['target'].reshape(train_inputs['target'].shape[0], train_inputs['target'].shape[1], 1)\n",
    "valid_target = valid_inputs['target'].reshape(valid_inputs['target'].shape[0], valid_inputs['target'].shape[1], 1)"
   ]
  },
  {
   "cell_type": "code",
   "execution_count": 15,
   "metadata": {},
   "outputs": [
    {
     "name": "stdout",
     "output_type": "stream",
     "text": [
      "Train on 23368 samples, validate on 1461 samples\n",
      "Epoch 1/100\n",
      "23368/23368 [==============================] - 4s 193us/step - loss: 0.0295 - val_loss: 0.0024\n",
      "Epoch 2/100\n",
      "23368/23368 [==============================] - 4s 179us/step - loss: 0.0018 - val_loss: 0.0012\n",
      "Epoch 3/100\n",
      "23368/23368 [==============================] - 4s 166us/step - loss: 0.0011 - val_loss: 0.0012\n",
      "Epoch 4/100\n",
      "23368/23368 [==============================] - 4s 181us/step - loss: 8.2803e-04 - val_loss: 6.9578e-04\n",
      "Epoch 5/100\n",
      "23368/23368 [==============================] - 4s 173us/step - loss: 7.2612e-04 - val_loss: 7.7220e-04\n",
      "Epoch 6/100\n",
      "23368/23368 [==============================] - 4s 179us/step - loss: 6.6919e-04 - val_loss: 7.2845e-04\n",
      "Epoch 7/100\n",
      "23368/23368 [==============================] - 4s 179us/step - loss: 6.3502e-04 - val_loss: 5.6978e-04\n",
      "Epoch 8/100\n",
      "23368/23368 [==============================] - 4s 160us/step - loss: 6.1488e-04 - val_loss: 6.6862e-04\n",
      "Epoch 9/100\n",
      "23368/23368 [==============================] - 4s 176us/step - loss: 6.0052e-04 - val_loss: 6.6146e-04\n",
      "Epoch 10/100\n",
      "23368/23368 [==============================] - 4s 173us/step - loss: 5.9026e-04 - val_loss: 7.1006e-04\n",
      "Epoch 11/100\n",
      "23368/23368 [==============================] - 4s 173us/step - loss: 5.8358e-04 - val_loss: 5.6529e-04\n",
      "Epoch 12/100\n",
      "23368/23368 [==============================] - 4s 180us/step - loss: 5.7569e-04 - val_loss: 5.3013e-04\n",
      "Epoch 13/100\n",
      "23368/23368 [==============================] - 4s 167us/step - loss: 5.7218e-04 - val_loss: 5.4756e-04\n",
      "Epoch 14/100\n",
      "23368/23368 [==============================] - 4s 169us/step - loss: 5.6814e-04 - val_loss: 6.3250e-04\n",
      "Epoch 15/100\n",
      "23368/23368 [==============================] - 4s 171us/step - loss: 5.6442e-04 - val_loss: 7.1372e-04\n",
      "Epoch 16/100\n",
      "23368/23368 [==============================] - 4s 158us/step - loss: 5.6081e-04 - val_loss: 5.2485e-04\n",
      "Epoch 17/100\n",
      "23368/23368 [==============================] - 4s 173us/step - loss: 5.5796e-04 - val_loss: 5.1695e-04\n",
      "Epoch 18/100\n",
      "23368/23368 [==============================] - 4s 159us/step - loss: 5.5424e-04 - val_loss: 5.2119e-04\n",
      "Epoch 19/100\n",
      "23368/23368 [==============================] - 4s 167us/step - loss: 5.5203e-04 - val_loss: 5.9057e-04\n",
      "Epoch 20/100\n",
      "23368/23368 [==============================] - 4s 177us/step - loss: 5.4887e-04 - val_loss: 5.1337e-04\n",
      "Epoch 21/100\n",
      "23368/23368 [==============================] - 4s 155us/step - loss: 5.4759e-04 - val_loss: 5.3013e-04\n",
      "Epoch 22/100\n",
      "23368/23368 [==============================] - 4s 175us/step - loss: 5.4486e-04 - val_loss: 5.0019e-04\n",
      "Epoch 23/100\n",
      "23368/23368 [==============================] - 4s 160us/step - loss: 5.4241e-04 - val_loss: 5.3010e-04\n",
      "Epoch 24/100\n",
      "23368/23368 [==============================] - 4s 171us/step - loss: 5.4000e-04 - val_loss: 6.4035e-04\n",
      "Epoch 25/100\n",
      "23368/23368 [==============================] - 4s 173us/step - loss: 5.3852e-04 - val_loss: 5.2059e-04\n",
      "Epoch 26/100\n",
      "23368/23368 [==============================] - 4s 160us/step - loss: 5.3506e-04 - val_loss: 5.4397e-04\n",
      "Epoch 27/100\n",
      "23368/23368 [==============================] - 4s 176us/step - loss: 5.3278e-04 - val_loss: 5.9460e-04\n"
     ]
    },
    {
     "data": {
      "text/plain": [
       "<keras.callbacks.History at 0x7f911af75e10>"
      ]
     },
     "execution_count": 15,
     "metadata": {},
     "output_type": "execute_result"
    }
   ],
   "source": [
    "model.fit([train_inputs['encoder_input'], train_inputs['decoder_input']],\n",
    "          train_target,\n",
    "          batch_size=BATCH_SIZE,\n",
    "          epochs=EPOCHS,\n",
    "          validation_data=([valid_inputs['encoder_input'], valid_inputs['decoder_input']], valid_target),\n",
    "          callbacks=[earlystop],\n",
    "          verbose=1)"
   ]
  },
  {
   "cell_type": "markdown",
   "metadata": {},
   "source": [
    "## Implement inference model"
   ]
  },
  {
   "cell_type": "code",
   "execution_count": 16,
   "metadata": {
    "collapsed": true
   },
   "outputs": [],
   "source": [
    "# build ingerence encoder model\n",
    "encoder_model = Model(encoder_inputs, encoder_states)\n",
    "\n",
    "# build ingerence decoder model\n",
    "decoder_state_input_h = Input(shape=(LATENT_DIM,))\n",
    "decoder_states_inputs = [decoder_state_input_h]\n",
    "\n",
    "decoder_outputs, state_h = decoder_GRU(decoder_inputs, initial_state=decoder_states_inputs)\n",
    "decoder_states = [state_h]\n",
    "decoder_outputs = decoder_dense(decoder_outputs)\n",
    "decoder_model = Model([decoder_inputs] + decoder_states_inputs, [decoder_outputs] + decoder_states)"
   ]
  },
  {
   "cell_type": "code",
   "execution_count": 17,
   "metadata": {
    "collapsed": true
   },
   "outputs": [],
   "source": [
    "# Define the funtion to make single sequence prediction \n",
    "# based on scoring encoder-decoder\n",
    "def predict_single_sequence(single_input_seq, horizon, n_features):\n",
    "    # apply encoder model to the input_seq to get state\n",
    "    states_value = encoder_model.predict(single_input_seq)\n",
    "    # create target sequence placeholder\n",
    "    target_seq = np.zeros((1, 1, n_features))\n",
    "    # create final output placeholder\n",
    "    output = list()\n",
    "    # collect predictions\n",
    "    for t in range(horizon):\n",
    "        # predict next value\n",
    "        yhat, h = decoder_model.predict([target_seq] + [states_value])\n",
    "        # store prediction\n",
    "        output.append(yhat[0,0,:])\n",
    "        # update state\n",
    "        state = [h]\n",
    "        # update target sequence and this will be used as input for next prediction\n",
    "        target_seq = yhat\n",
    "    return np.array(output)"
   ]
  },
  {
   "cell_type": "code",
   "execution_count": 18,
   "metadata": {},
   "outputs": [
    {
     "name": "stdout",
     "output_type": "stream",
     "text": [
      "[[-0.26]\n",
      " [-0.65]\n",
      " [-1.02]]\n"
     ]
    }
   ],
   "source": [
    "# example of single sequence prediction\n",
    "print(predict_single_sequence(valid_inputs['encoder_input'][0:1], HORIZON, 1))"
   ]
  },
  {
   "cell_type": "code",
   "execution_count": 19,
   "metadata": {
    "collapsed": true
   },
   "outputs": [],
   "source": [
    "# Define the funtion to make multiple sequence prediction \n",
    "# based on scoring encoder-decoder\n",
    "def predict_multi_sequence(input_seq_multi, horizon, n_features):\n",
    "    # create output placeholder\n",
    "    predictions_all = list()\n",
    "    for seq_index in range(input_seq_multi.shape[0]):       \n",
    "        # Take one sequence for decoding\n",
    "        input_seq = input_seq_multi[seq_index: seq_index + 1]\n",
    "        # Generate prediction for the single sequence\n",
    "        predictions = predict_single_sequence(input_seq, horizon, n_features)\n",
    "        # store all the sequence prediction\n",
    "        predictions_all.append(predictions)\n",
    "        \n",
    "    return np.array(predictions_all)"
   ]
  },
  {
   "cell_type": "markdown",
   "metadata": {},
   "source": [
    "## Evaluate the model"
   ]
  },
  {
   "cell_type": "code",
   "execution_count": 20,
   "metadata": {
    "collapsed": true
   },
   "outputs": [],
   "source": [
    "look_back_dt = dt.datetime.strptime(test_start_dt, '%Y-%m-%d %H:%M:%S') - dt.timedelta(hours=T-1)\n",
    "test = energy.copy()[test_start_dt:][['load']]\n",
    "test[['load']] = y_scaler.transform(test)\n",
    "test_inputs = TimeSeriesTensor(test, 'load', HORIZON, tensor_structure)"
   ]
  },
  {
   "cell_type": "code",
   "execution_count": 21,
   "metadata": {},
   "outputs": [
    {
     "data": {
      "text/plain": [
       "(1456, 3, 1)"
      ]
     },
     "execution_count": 21,
     "metadata": {},
     "output_type": "execute_result"
    }
   ],
   "source": [
    "# example of multiple sequence prediction based on validation data\n",
    "test_predictions_all = predict_multi_sequence(test_inputs['encoder_input'], HORIZON, 1)\n",
    "test_predictions_all.shape"
   ]
  },
  {
   "cell_type": "code",
   "execution_count": 22,
   "metadata": {},
   "outputs": [
    {
     "data": {
      "text/plain": [
       "(1456, 3)"
      ]
     },
     "execution_count": 22,
     "metadata": {},
     "output_type": "execute_result"
    }
   ],
   "source": [
    "test_predictions_all_eval = test_predictions_all.reshape(test_predictions_all.shape[0], test_predictions_all.shape[1])\n",
    "test_predictions_all_eval.shape"
   ]
  },
  {
   "cell_type": "code",
   "execution_count": 23,
   "metadata": {},
   "outputs": [
    {
     "data": {
      "text/html": [
       "<div>\n",
       "<table border=\"1\" class=\"dataframe\">\n",
       "  <thead>\n",
       "    <tr style=\"text-align: right;\">\n",
       "      <th></th>\n",
       "      <th>timestamp</th>\n",
       "      <th>h</th>\n",
       "      <th>prediction</th>\n",
       "      <th>actual</th>\n",
       "    </tr>\n",
       "  </thead>\n",
       "  <tbody>\n",
       "    <tr>\n",
       "      <th>0</th>\n",
       "      <td>2014-11-01 05:00:00</td>\n",
       "      <td>t+1</td>\n",
       "      <td>1,751.32</td>\n",
       "      <td>2,714.00</td>\n",
       "    </tr>\n",
       "    <tr>\n",
       "      <th>1</th>\n",
       "      <td>2014-11-01 06:00:00</td>\n",
       "      <td>t+1</td>\n",
       "      <td>1,658.65</td>\n",
       "      <td>2,970.00</td>\n",
       "    </tr>\n",
       "    <tr>\n",
       "      <th>2</th>\n",
       "      <td>2014-11-01 07:00:00</td>\n",
       "      <td>t+1</td>\n",
       "      <td>1,454.02</td>\n",
       "      <td>3,189.00</td>\n",
       "    </tr>\n",
       "    <tr>\n",
       "      <th>3</th>\n",
       "      <td>2014-11-01 08:00:00</td>\n",
       "      <td>t+1</td>\n",
       "      <td>1,194.33</td>\n",
       "      <td>3,356.00</td>\n",
       "    </tr>\n",
       "    <tr>\n",
       "      <th>4</th>\n",
       "      <td>2014-11-01 09:00:00</td>\n",
       "      <td>t+1</td>\n",
       "      <td>1,028.69</td>\n",
       "      <td>3,436.00</td>\n",
       "    </tr>\n",
       "  </tbody>\n",
       "</table>\n",
       "</div>"
      ],
      "text/plain": [
       "            timestamp    h  prediction   actual\n",
       "0 2014-11-01 05:00:00  t+1    1,751.32 2,714.00\n",
       "1 2014-11-01 06:00:00  t+1    1,658.65 2,970.00\n",
       "2 2014-11-01 07:00:00  t+1    1,454.02 3,189.00\n",
       "3 2014-11-01 08:00:00  t+1    1,194.33 3,356.00\n",
       "4 2014-11-01 09:00:00  t+1    1,028.69 3,436.00"
      ]
     },
     "execution_count": 23,
     "metadata": {},
     "output_type": "execute_result"
    }
   ],
   "source": [
    "eval_df = create_evaluation_df(test_predictions_all_eval, test_inputs, HORIZON, y_scaler)\n",
    "eval_df.head()"
   ]
  },
  {
   "cell_type": "code",
   "execution_count": 24,
   "metadata": {},
   "outputs": [
    {
     "data": {
      "text/plain": [
       "h\n",
       "t+1   0.70\n",
       "t+2   1.12\n",
       "t+3   1.44\n",
       "Name: APE, dtype: float64"
      ]
     },
     "execution_count": 24,
     "metadata": {},
     "output_type": "execute_result"
    }
   ],
   "source": [
    "eval_df['APE'] = (eval_df['prediction'] - eval_df['actual']).abs() / eval_df['actual']\n",
    "eval_df.groupby('h')['APE'].mean()"
   ]
  },
  {
   "cell_type": "code",
   "execution_count": 25,
   "metadata": {},
   "outputs": [
    {
     "data": {
      "text/plain": [
       "1.0869955319408606"
      ]
     },
     "execution_count": 25,
     "metadata": {},
     "output_type": "execute_result"
    }
   ],
   "source": [
    "mape(eval_df['prediction'], eval_df['actual'])"
   ]
  },
  {
   "cell_type": "code",
   "execution_count": 26,
   "metadata": {},
   "outputs": [
    {
     "data": {
      "text/html": [
       "<div>\n",
       "<table border=\"1\" class=\"dataframe\">\n",
       "  <thead>\n",
       "    <tr style=\"text-align: right;\">\n",
       "      <th></th>\n",
       "      <th>timestamp</th>\n",
       "      <th>actual</th>\n",
       "      <th>t+1</th>\n",
       "      <th>t+2</th>\n",
       "      <th>t+3</th>\n",
       "    </tr>\n",
       "  </thead>\n",
       "  <tbody>\n",
       "    <tr>\n",
       "      <th>0</th>\n",
       "      <td>2014-11-01 05:00:00</td>\n",
       "      <td>2,714.00</td>\n",
       "      <td>1,751.32</td>\n",
       "      <td>1,355.35</td>\n",
       "      <td>716.65</td>\n",
       "    </tr>\n",
       "    <tr>\n",
       "      <th>1</th>\n",
       "      <td>2014-11-01 06:00:00</td>\n",
       "      <td>2,970.00</td>\n",
       "      <td>1,658.65</td>\n",
       "      <td>1,108.44</td>\n",
       "      <td>269.14</td>\n",
       "    </tr>\n",
       "    <tr>\n",
       "      <th>2</th>\n",
       "      <td>2014-11-01 07:00:00</td>\n",
       "      <td>3,189.00</td>\n",
       "      <td>1,454.02</td>\n",
       "      <td>589.38</td>\n",
       "      <td>-535.83</td>\n",
       "    </tr>\n",
       "    <tr>\n",
       "      <th>3</th>\n",
       "      <td>2014-11-01 08:00:00</td>\n",
       "      <td>3,356.00</td>\n",
       "      <td>1,194.33</td>\n",
       "      <td>-10.91</td>\n",
       "      <td>-1,242.79</td>\n",
       "    </tr>\n",
       "    <tr>\n",
       "      <th>4</th>\n",
       "      <td>2014-11-01 09:00:00</td>\n",
       "      <td>3,436.00</td>\n",
       "      <td>1,028.69</td>\n",
       "      <td>-363.61</td>\n",
       "      <td>-1,572.94</td>\n",
       "    </tr>\n",
       "  </tbody>\n",
       "</table>\n",
       "</div>"
      ],
      "text/plain": [
       "            timestamp   actual      t+1      t+2       t+3\n",
       "0 2014-11-01 05:00:00 2,714.00 1,751.32 1,355.35    716.65\n",
       "1 2014-11-01 06:00:00 2,970.00 1,658.65 1,108.44    269.14\n",
       "2 2014-11-01 07:00:00 3,189.00 1,454.02   589.38   -535.83\n",
       "3 2014-11-01 08:00:00 3,356.00 1,194.33   -10.91 -1,242.79\n",
       "4 2014-11-01 09:00:00 3,436.00 1,028.69  -363.61 -1,572.94"
      ]
     },
     "execution_count": 26,
     "metadata": {},
     "output_type": "execute_result"
    }
   ],
   "source": [
    "plot_df = eval_df[(eval_df.timestamp<'2014-11-08') & (eval_df.h=='t+1')][['timestamp', 'actual']]\n",
    "for t in range(1, HORIZON+1):\n",
    "    plot_df['t+'+str(t)] = eval_df[(eval_df.timestamp<'2014-11-08') & (eval_df.h=='t+'+str(t))]['prediction'].values\n",
    "plot_df.head()"
   ]
  },
  {
   "cell_type": "code",
   "execution_count": 27,
   "metadata": {},
   "outputs": [
    {
     "data": {
      "image/png": "[encoded data removed]",
      "text/plain": [
       "<matplotlib.figure.Figure at 0x7f911851e978>"
      ]
     },
     "metadata": {},
     "output_type": "display_data"
    }
   ],
   "source": [
    "plot_df = eval_df[(eval_df.timestamp<'2014-11-08') & (eval_df.h=='t+1')][['timestamp', 'actual']]\n",
    "for t in range(1, HORIZON+1):\n",
    "    plot_df['t+'+str(t)] = eval_df[(eval_df.timestamp<'2014-11-08') & (eval_df.h=='t+'+str(t))]['prediction'].values\n",
    "\n",
    "fig = plt.figure(figsize=(15, 8))\n",
    "ax = plt.plot(plot_df['timestamp'], plot_df['actual'], color='red', linewidth=4.0)\n",
    "ax = fig.add_subplot(111)\n",
    "ax.plot(plot_df['timestamp'], plot_df['t+1'], color='blue', linewidth=4.0, alpha=0.75)\n",
    "ax.plot(plot_df['timestamp'], plot_df['t+2'], color='blue', linewidth=3.0, alpha=0.5)\n",
    "ax.plot(plot_df['timestamp'], plot_df['t+3'], color='blue', linewidth=2.0, alpha=0.25)\n",
    "plt.xlabel('timestamp', fontsize=12)\n",
    "plt.ylabel('load', fontsize=12)\n",
    "ax.legend(loc='best')\n",
    "plt.show()"
   ]
  }
 ],
 "metadata": {
  "kernelspec": {
   "display_name": "Python 3",
   "language": "python",
   "name": "python3"
  },
  "language_info": {
   "codemirror_mode": {
    "name": "ipython",
    "version": 3
   },
   "file_extension": ".py",
   "mimetype": "text/x-python",
   "name": "python",
   "nbconvert_exporter": "python",
   "pygments_lexer": "ipython3",
   "version": "3.5.2"
  }
 },
 "nbformat": 4,
 "nbformat_minor": 2
}
